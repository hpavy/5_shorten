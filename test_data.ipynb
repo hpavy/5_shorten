{
 "cells": [
  {
   "cell_type": "code",
   "execution_count": 1,
   "metadata": {},
   "outputs": [],
   "source": [
    "# On regarde la data et on ne prend que 225 points pour train"
   ]
  },
  {
   "cell_type": "code",
   "execution_count": 84,
   "metadata": {},
   "outputs": [],
   "source": [
    "import pandas as pd\n",
    "import numpy as np\n",
    "import matplotlib.pyplot as plt"
   ]
  },
  {
   "cell_type": "code",
   "execution_count": 85,
   "metadata": {},
   "outputs": [],
   "source": [
    "df = pd.read_csv(\"data.csv\")"
   ]
  },
  {
   "cell_type": "code",
   "execution_count": 161,
   "metadata": {},
   "outputs": [],
   "source": [
    "# On adimensionne la data\n",
    "df_modified = df[\n",
    "    (df[\"Points:0\"] >= 0.22)\n",
    "    & (df[\"Points:1\"] >= -0.1)\n",
    "    & (df[\"Points:1\"] <= 0.1)\n",
    "    & (df[\"Time\"] > 4)\n",
    "    & (df[\"Time\"] < 6)\n",
    "] \n",
    "# Uniquement la fin de la turbulence"
   ]
  },
  {
   "cell_type": "code",
   "execution_count": 216,
   "metadata": {},
   "outputs": [],
   "source": [
    "x_full, y_full, t_full = (\n",
    "    np.array(df_modified[\"Points:0\"]),\n",
    "    np.array(df_modified[\"Points:1\"]),\n",
    "    np.array(df_modified[\"Time\"]),\n",
    ")\n",
    "u_full, v_full, p_full = (\n",
    "    np.array(df_modified[\"Velocity:0\"]),\n",
    "    np.array(df_modified[\"Velocity:1\"]),\n",
    "    np.array(df_modified[\"Pressure\"]),\n",
    ")\n",
    "\n",
    "x_norm_full = (x_full - x_full.mean()) / x_full.std()\n",
    "y_norm_full = (y_full - y_full.mean()) / y_full.std()\n",
    "t_norm_full = (t_full - t_full.mean()) / t_full.std()\n",
    "p_norm_full = (p_full - p_full.mean()) / p_full.std()\n",
    "u_norm_full = (u_full - u_full.mean()) / u_full.std()\n",
    "v_norm_full = (v_full - v_full.mean()) / v_full.std()\n",
    "\n",
    "\n",
    "X_full = np.array([x_norm_full, y_norm_full, t_norm_full], dtype=np.float32).T\n",
    "\n",
    "U_full = np.array([u_norm_full, v_norm_full, p_norm_full], dtype=np.float32).T\n",
    "\n",
    "np.random.shuffle(X_full)  # pour pouvoir prendre des éléments au pif"
   ]
  },
  {
   "cell_type": "code",
   "execution_count": 217,
   "metadata": {},
   "outputs": [
    {
     "name": "stdout",
     "output_type": "stream",
     "text": [
      "Valeurs de x :190\n",
      "Valeurs uniques de y : 414\n",
      "Valeurs uniques de t : 82\n"
     ]
    }
   ],
   "source": [
    "print(f\"Valeurs de x :{np.unique(x_full).shape[0]}\")\n",
    "print(f\"Valeurs uniques de y : {np.unique(y_full).shape[0]}\")\n",
    "print(f\"Valeurs uniques de t : {np.unique(t_full).shape[0]}\")\n"
   ]
  },
  {
   "cell_type": "code",
   "execution_count": 218,
   "metadata": {},
   "outputs": [],
   "source": [
    "# Elles sont désordonnées, on dirait aléatoires"
   ]
  },
  {
   "cell_type": "code",
   "execution_count": 219,
   "metadata": {},
   "outputs": [
    {
     "data": {
      "text/plain": [
       "<matplotlib.collections.PathCollection at 0x130169210>"
      ]
     },
     "execution_count": 219,
     "metadata": {},
     "output_type": "execute_result"
    },
    {
     "data": {
      "image/png": "[encoded data removed]",
      "text/plain": [
       "<Figure size 640x480 with 1 Axes>"
      ]
     },
     "metadata": {},
     "output_type": "display_data"
    }
   ],
   "source": [
    "plt.scatter(X_full[:,0], X_full[:,1], marker='.')"
   ]
  },
  {
   "cell_type": "code",
   "execution_count": 220,
   "metadata": {},
   "outputs": [],
   "source": [
    "# Pour chaque temps on regarde nombre de points"
   ]
  },
  {
   "cell_type": "code",
   "execution_count": 221,
   "metadata": {},
   "outputs": [
    {
     "data": {
      "text/plain": [
       "(1080, 3)"
      ]
     },
     "execution_count": 221,
     "metadata": {},
     "output_type": "execute_result"
    }
   ],
   "source": [
    "masque = X_full[:,2] == np.unique(t_norm_full)[23]\n",
    "X_full[masque].shape"
   ]
  },
  {
   "cell_type": "code",
   "execution_count": 222,
   "metadata": {},
   "outputs": [],
   "source": [
    "# A chaque pas de temps, on a 1080 points. On va le réduire par 5"
   ]
  },
  {
   "cell_type": "code",
   "execution_count": 223,
   "metadata": {},
   "outputs": [],
   "source": [
    "couple_x_y = [(x,y) for x,y in X_full[masque][:,:2]]"
   ]
  },
  {
   "cell_type": "code",
   "execution_count": 254,
   "metadata": {},
   "outputs": [],
   "source": [
    "couple_x_y_reduce = couple_x_y[:80]"
   ]
  },
  {
   "cell_type": "code",
   "execution_count": 255,
   "metadata": {},
   "outputs": [
    {
     "data": {
      "text/plain": [
       "80"
      ]
     },
     "execution_count": 255,
     "metadata": {},
     "output_type": "execute_result"
    }
   ],
   "source": [
    "len(couple_x_y_reduce)"
   ]
  },
  {
   "cell_type": "code",
   "execution_count": 256,
   "metadata": {},
   "outputs": [],
   "source": [
    "masque_reduce = np.isin(X_full[:, :2], couple_x_y_reduce).all(axis=1)"
   ]
  },
  {
   "cell_type": "code",
   "execution_count": 257,
   "metadata": {},
   "outputs": [],
   "source": [
    "X = X_full[masque_reduce]"
   ]
  },
  {
   "cell_type": "code",
   "execution_count": 258,
   "metadata": {},
   "outputs": [],
   "source": [
    "masque2 = X[:,2] == np.unique(t_norm_full)[47]"
   ]
  },
  {
   "cell_type": "code",
   "execution_count": 259,
   "metadata": {},
   "outputs": [
    {
     "data": {
      "text/plain": [
       "(320, 3)"
      ]
     },
     "execution_count": 259,
     "metadata": {},
     "output_type": "execute_result"
    }
   ],
   "source": [
    "X[masque2].shape"
   ]
  },
  {
   "cell_type": "code",
   "execution_count": 260,
   "metadata": {},
   "outputs": [
    {
     "data": {
      "text/plain": [
       "(26240, 3)"
      ]
     },
     "execution_count": 260,
     "metadata": {},
     "output_type": "execute_result"
    }
   ],
   "source": [
    "X.shape"
   ]
  },
  {
   "cell_type": "code",
   "execution_count": 261,
   "metadata": {},
   "outputs": [
    {
     "data": {
      "text/plain": [
       "<matplotlib.collections.PathCollection at 0x130491210>"
      ]
     },
     "execution_count": 261,
     "metadata": {},
     "output_type": "execute_result"
    },
    {
     "data": {
      "image/png": "[encoded data removed]",
      "text/plain": [
       "<Figure size 640x480 with 1 Axes>"
      ]
     },
     "metadata": {},
     "output_type": "display_data"
    }
   ],
   "source": [
    "plt.scatter(X[:,0], X[:,1], marker='.')"
   ]
  },
  {
   "cell_type": "code",
   "execution_count": 113,
   "metadata": {},
   "outputs": [],
   "source": [
    "X_shuffle = np.random.shuffle(X_full)"
   ]
  },
  {
   "cell_type": "code",
   "execution_count": 114,
   "metadata": {},
   "outputs": [],
   "source": [
    "X_shuffle"
   ]
  },
  {
   "cell_type": "code",
   "execution_count": null,
   "metadata": {},
   "outputs": [],
   "source": []
  },
  {
   "cell_type": "code",
   "execution_count": null,
   "metadata": {},
   "outputs": [],
   "source": []
  },
  {
   "cell_type": "code",
   "execution_count": 83,
   "metadata": {},
   "outputs": [
    {
     "data": {
      "text/plain": [
       "array([-2.0714483, -1.8260198, -1.6372252, -1.4920002, -1.3802956,\n",
       "       -1.2943621, -1.2282594,  1.2282594,  1.2943621,  1.3802956,\n",
       "        1.4920002,  1.6372252,  1.8260198,  2.0714483], dtype=float32)"
      ]
     },
     "execution_count": 83,
     "metadata": {},
     "output_type": "execute_result"
    }
   ],
   "source": [
    "np.unique(X_full[masque][:,1])"
   ]
  },
  {
   "cell_type": "code",
   "execution_count": 79,
   "metadata": {},
   "outputs": [
    {
     "data": {
      "text/plain": [
       "array([-1.58147792, -1.56724765, -1.55456414, -1.54342741, -1.53383745,\n",
       "       -1.52579425, -1.51929782, -1.51465752, -1.5134201 , -1.51125463,\n",
       "       -1.50970786, -1.48774375, -1.46330481, -1.44010328, -1.41813917,\n",
       "       -1.39710312, -1.37761384, -1.35905261, -1.34203816, -1.32626112,\n",
       "       -1.3117215 , -1.29872865, -1.28697321, -1.27676453, -1.26810263,\n",
       "       -1.26067814, -1.25480042, -1.25046947, -1.24737593, -1.24582917,\n",
       "       -1.21365638, -1.19045486, -1.16849074, -1.14745469, -1.1273467 ,\n",
       "       -1.10847613, -1.09053362, -1.07413787, -1.05867019, -1.04413056,\n",
       "       -1.03113771, -1.01938227, -1.00886424, -0.99958363, -0.99154044,\n",
       "       -0.98504401, -0.97947564, -0.97545404, -0.97297921, -0.97143245,\n",
       "       -0.90213722, -0.88141052, -0.86192124, -0.84305067, -0.82510815,\n",
       "       -0.80840305, -0.79231666, -0.77746768, -0.76385612, -0.75117262,\n",
       "       -0.73941718, -0.72889916, -0.71930919, -0.711266  , -0.70415086,\n",
       "       -0.69827314, -0.69332348, -0.68992059, -0.68744576, -0.68620835,\n",
       "       -0.57793456, -0.55999204, -0.54266824, -0.52627249, -0.51080481,\n",
       "       -0.49595583, -0.48203491, -0.46935141, -0.45728662, -0.44614989,\n",
       "       -0.43594121, -0.4266606 , -0.41861741, -0.41119292, -0.40500585,\n",
       "       -0.39974683, -0.39572524, -0.3926317 , -0.39046622, -0.38953816,\n",
       "       -0.24073904, -0.22558071, -0.21104108, -0.19712017, -0.18381796,\n",
       "       -0.17144381, -0.15968837, -0.14855164, -0.13834297, -0.128753  ,\n",
       "       -0.1200911 , -0.11235726, -0.10555148, -0.0993644 , -0.09410539,\n",
       "       -0.08977444, -0.0860622 , -0.08358737, -0.08173124, -0.08080318,\n",
       "        0.10975869,  0.12213284,  0.13388828,  0.14533436,  0.15616174,\n",
       "        0.16637041,  0.17596038,  0.18493163,  0.19328418,  0.20101803,\n",
       "        0.20813316,  0.21432023,  0.22019795,  0.22514761,  0.22947856,\n",
       "        0.23288146,  0.23597499,  0.23814047,  0.23937788,  0.24030594,\n",
       "        0.47417733,  0.48376729,  0.49273855,  0.50140045,  0.509753  ,\n",
       "        0.51748685,  0.52491133,  0.53171712,  0.53821354,  0.54409126,\n",
       "        0.54935028,  0.55429994,  0.55863089,  0.56234313,  0.56574602,\n",
       "        0.5685302 ,  0.57069568,  0.57224245,  0.57347986,  0.57409857,\n",
       "        0.85344495,  0.85994138,  0.86612845,  0.87200617,  0.87757454,\n",
       "        0.88283355,  0.88778321,  0.89242351,  0.89675447,  0.90077606,\n",
       "        0.90448831,  0.9078912 ,  0.91067538,  0.91345956,  0.91562504,\n",
       "        0.91748116,  0.91902793,  0.91995599,  0.92088405,  0.92119341,\n",
       "        1.24756155,  1.25096444,  1.25405797,  1.25715151,  1.25993569,\n",
       "        1.26271988,  1.26519471,  1.26766954,  1.26983501,  1.27200049,\n",
       "        1.27385661,  1.27540338,  1.27695015,  1.27818756,  1.27942498,\n",
       "        1.28035304,  1.28097174,  1.28159045,  1.28220916,  1.65776453])"
      ]
     },
     "execution_count": 79,
     "metadata": {},
     "output_type": "execute_result"
    }
   ],
   "source": [
    "np.unique(x_norm_full)"
   ]
  },
  {
   "cell_type": "code",
   "execution_count": 56,
   "metadata": {},
   "outputs": [
    {
     "data": {
      "text/plain": [
       "array([], shape=(0, 3), dtype=float32)"
      ]
     },
     "execution_count": 56,
     "metadata": {},
     "output_type": "execute_result"
    }
   ],
   "source": [
    "X_full[masque]"
   ]
  },
  {
   "cell_type": "code",
   "execution_count": 42,
   "metadata": {},
   "outputs": [
    {
     "data": {
      "text/plain": [
       "array([ True,  True,  True, ...,  True,  True,  True])"
      ]
     },
     "execution_count": 42,
     "metadata": {},
     "output_type": "execute_result"
    }
   ],
   "source": [
    "masque"
   ]
  },
  {
   "cell_type": "code",
   "execution_count": 33,
   "metadata": {},
   "outputs": [
    {
     "data": {
      "text/plain": [
       "(177120, 3)"
      ]
     },
     "execution_count": 33,
     "metadata": {},
     "output_type": "execute_result"
    }
   ],
   "source": [
    "X_full.shape"
   ]
  },
  {
   "cell_type": "code",
   "execution_count": 30,
   "metadata": {},
   "outputs": [
    {
     "data": {
      "text/plain": [
       "array([ True,  True,  True, ...,  True,  True,  True])"
      ]
     },
     "execution_count": 30,
     "metadata": {},
     "output_type": "execute_result"
    }
   ],
   "source": [
    "masque"
   ]
  },
  {
   "cell_type": "code",
   "execution_count": 32,
   "metadata": {},
   "outputs": [
    {
     "data": {
      "text/plain": [
       "(177120, 3)"
      ]
     },
     "execution_count": 32,
     "metadata": {},
     "output_type": "execute_result"
    }
   ],
   "source": [
    "X_full[masque].shape"
   ]
  },
  {
   "cell_type": "code",
   "execution_count": 20,
   "metadata": {},
   "outputs": [
    {
     "data": {
      "text/plain": [
       "177120"
      ]
     },
     "execution_count": 20,
     "metadata": {},
     "output_type": "execute_result"
    }
   ],
   "source": []
  },
  {
   "cell_type": "code",
   "execution_count": 11,
   "metadata": {},
   "outputs": [],
   "source": [
    "# On plot "
   ]
  },
  {
   "cell_type": "code",
   "execution_count": null,
   "metadata": {},
   "outputs": [],
   "source": []
  },
  {
   "cell_type": "code",
   "execution_count": 11,
   "metadata": {},
   "outputs": [],
   "source": [
    "from pyDOE import lhs"
   ]
  },
  {
   "cell_type": "code",
   "execution_count": 21,
   "metadata": {},
   "outputs": [],
   "source": [
    "a = lhs(2, 40)"
   ]
  },
  {
   "cell_type": "code",
   "execution_count": 22,
   "metadata": {},
   "outputs": [],
   "source": [
    "x = a [:, 0]\n",
    "y = a[:, 1]"
   ]
  },
  {
   "cell_type": "code",
   "execution_count": 23,
   "metadata": {},
   "outputs": [],
   "source": [
    "import matplotlib.pyplot as plt"
   ]
  },
  {
   "cell_type": "code",
   "execution_count": 24,
   "metadata": {},
   "outputs": [
    {
     "data": {
      "text/plain": [
       "<matplotlib.collections.PathCollection at 0x127d0a310>"
      ]
     },
     "execution_count": 24,
     "metadata": {},
     "output_type": "execute_result"
    },
    {
     "data": {
      "image/png": "[encoded data removed]",
      "text/plain": [
       "<Figure size 640x480 with 1 Axes>"
      ]
     },
     "metadata": {},
     "output_type": "display_data"
    }
   ],
   "source": [
    "plt.scatter(x,y)"
   ]
  },
  {
   "cell_type": "code",
   "execution_count": null,
   "metadata": {},
   "outputs": [],
   "source": []
  }
 ],
 "metadata": {
  "kernelspec": {
   "display_name": "base",
   "language": "python",
   "name": "python3"
  },
  "language_info": {
   "codemirror_mode": {
    "name": "ipython",
    "version": 3
   },
   "file_extension": ".py",
   "mimetype": "text/x-python",
   "name": "python",
   "nbconvert_exporter": "python",
   "pygments_lexer": "ipython3",
   "version": "3.11.8"
  }
 },
 "nbformat": 4,
 "nbformat_minor": 2
}
